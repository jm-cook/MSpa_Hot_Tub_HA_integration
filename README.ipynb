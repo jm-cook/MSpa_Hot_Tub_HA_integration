{
 "cells": [
  {
   "metadata": {},
   "cell_type": "markdown",
   "source": [
    "# MSpa Hot Tub Control - AppDaemon Integration\n",
    "\n",
    "This AppDaemon integration allows you to control your MSpa hot tub through Home Assistant. It provides real-time monitoring of your hot tub's status and allows control of various functions like heating, bubbles, jets, and filtering.\n",
    "\n",
    "## Features\n",
    "\n",
    "- Real-time monitoring of water temperature\n",
    "- Control of heater, bubbles, jets, and filter\n",
    "- Temperature setting adjustment\n",
    "- Automatic status updates every minute\n",
    "- Integration with Home Assistant automations\n",
    "\n",
    "## Prerequisites\n",
    "\n",
    "- Home Assistant with AppDaemon installed\n",
    "- Python 3.x\n",
    "- MSpa hot tub with Wi-Fi capability\n",
    "- `hot_tub.py` script (MSpa API interface)\n",
    "\n",
    "## Installation\n",
    "\n",
    "1. Place the `mspa.py` file in your AppDaemon apps directory:\n",
    "   ```\n",
    "   config/appdaemon/apps/mspa/mspa.py\n",
    "   ```\n",
    "\n",
    "2. Add the following to your `apps.yaml`:\n",
    "   ```yaml\n",
    "   mspa_hot_tub:\n",
    "     module: mspa\n",
    "     class: MSpaHotTub\n",
    "     script_path: /path/to/your/hot_tub.py\n",
    "   ```\n",
    "\n",
    "## Available Entities\n",
    "\n",
    "### Sensors\n",
    "- `sensor.mspa_water_temperature` - Current water temperature\n",
    "- `sensor.mspa_target_temperature` - Target temperature setting\n",
    "- `binary_sensor.mspa_heater` - Heater status\n",
    "- `binary_sensor.mspa_filter` - Filter status\n",
    "- `binary_sensor.mspa_bubble` - Bubble feature status\n",
    "- `binary_sensor.mspa_jet` - Jet feature status\n",
    "\n",
    "## Available Services\n",
    "\n",
    "### Temperature Control"
   ],
   "id": "94f7c00afec5aacf"
  },
  {
   "metadata": {},
   "cell_type": "code",
   "outputs": [],
   "execution_count": null,
   "source": [
    "\n",
    "### Heater Control"
   ],
   "id": "f0937bfc573caa05"
  },
  {
   "metadata": {},
   "cell_type": "code",
   "outputs": [],
   "execution_count": null,
   "source": [
    "\n",
    "### Bubble Control"
   ],
   "id": "750dab8ed65667c9"
  },
  {
   "metadata": {},
   "cell_type": "code",
   "outputs": [],
   "execution_count": null,
   "source": [
    "\n",
    "### Jet Control"
   ],
   "id": "6a9e98f0bbfe2151"
  },
  {
   "metadata": {},
   "cell_type": "code",
   "outputs": [],
   "execution_count": null,
   "source": [
    "\n",
    "### Filter Control"
   ],
   "id": "c3fc985bbc69d0b3"
  },
  {
   "metadata": {},
   "cell_type": "code",
   "outputs": [],
   "execution_count": null,
   "source": [
    "\n",
    "## Example Usage\n",
    "\n",
    "### Basic Automation Examples\n",
    "\n",
    "1. Schedule hot tub heating:"
   ],
   "id": "2546800e97107a64"
  },
  {
   "metadata": {},
   "cell_type": "code",
   "outputs": [],
   "execution_count": null,
   "source": [
    "\n",
    "2. Temperature maintenance:"
   ],
   "id": "8428b6db93a2dfb0"
  },
  {
   "metadata": {},
   "cell_type": "code",
   "outputs": [],
   "execution_count": null,
   "source": [
    "\n",
    "### Example Dashboard Card\n",
    "\n",
    "You can create a custom card in your Home Assistant dashboard:\n"
   ],
   "id": "1bb65f76f4af72d1"
  },
  {
   "metadata": {},
   "cell_type": "code",
   "outputs": [],
   "execution_count": null,
   "source": [
    "\n",
    "## Troubleshooting\n",
    "\n",
    "### Common Issues\n",
    "\n",
    "1. **App not starting:**\n",
    "   - Check AppDaemon logs\n",
    "   - Verify path to `hot_tub.py` in configuration\n",
    "   - Ensure correct permissions on script files\n",
    "\n",
    "2. **Services not working:**\n",
    "   - Verify hot tub is connected to Wi-Fi\n",
    "   - Check AppDaemon logs for error messages\n",
    "   - Test `hot_tub.py` script directly\n",
    "\n",
    "3. **Status not updating:**\n",
    "   - Check network connectivity\n",
    "   - Verify hot tub is powered on\n",
    "   - Review AppDaemon logs for errors\n",
    "\n",
    "### Logging\n",
    "\n",
    "The app logs its activities to the AppDaemon log. Check these logs for troubleshooting:"
   ],
   "id": "c79bcbff44fbe47c"
  },
  {
   "metadata": {},
   "cell_type": "code",
   "outputs": [],
   "execution_count": null,
   "source": [
    "\n",
    "## Configuration Reference\n",
    "\n",
    "### Required Configuration\n",
    "\n",
    "| Parameter | Description |\n",
    "|-----------|-------------|\n",
    "| module | Must be set to 'mspa' |\n",
    "| class | Must be set to 'MSpaHotTub' |\n",
    "| script_path | Full path to hot_tub.py script |\n",
    "\n",
    "## Notes\n",
    "\n",
    "- Temperature values are in Celsius\n",
    "- Status updates occur every minute\n",
    "- Service calls are asynchronous\n",
    "- Binary sensors show current state of features\n",
    "\n",
    "## Support\n",
    "\n",
    "If you encounter issues:\n",
    "\n",
    "1. Check AppDaemon logs\n",
    "2. Verify your configuration\n",
    "3. Test the MSpa API script independently\n",
    "4. Ensure hot tub is connected and accessible\n",
    "\n",
    "## Contributing\n",
    "\n",
    "Contributions are welcome! Please feel free to submit a Pull Request.\n",
    "\n",
    "## License\n",
    "\n",
    "This project is licensed under the MIT License - see the LICENSE file for details."
   ],
   "id": "861a5d6386a1c55a"
  }
 ],
 "metadata": {
  "kernelspec": {
   "display_name": "Python 3",
   "language": "python",
   "name": "python3"
  },
  "language_info": {
   "codemirror_mode": {
    "name": "ipython",
    "version": 2
   },
   "file_extension": ".py",
   "mimetype": "text/x-python",
   "name": "python",
   "nbconvert_exporter": "python",
   "pygments_lexer": "ipython2",
   "version": "2.7.6"
  }
 },
 "nbformat": 4,
 "nbformat_minor": 5
}
